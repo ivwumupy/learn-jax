{
 "cells": [
  {
   "cell_type": "code",
   "execution_count": null,
   "id": "37b0e94e",
   "metadata": {},
   "outputs": [],
   "source": [
    "import importlib\n",
    "import random"
   ]
  },
  {
   "cell_type": "code",
   "execution_count": null,
   "id": "ea2e2cb2",
   "metadata": {},
   "outputs": [],
   "source": [
    "from flax import nnx\n",
    "import jax\n",
    "import jax.numpy as jnp\n",
    "from jax import lax\n",
    "import optax"
   ]
  },
  {
   "cell_type": "code",
   "execution_count": null,
   "id": "600c7e85",
   "metadata": {},
   "outputs": [],
   "source": [
    "import layers as L\n",
    "import utils as U\n",
    "\n",
    "importlib.reload(L)\n",
    "importlib.reload(U)"
   ]
  },
  {
   "cell_type": "code",
   "execution_count": null,
   "id": "33bd07d1",
   "metadata": {},
   "outputs": [],
   "source": [
    "def foo(i):\n",
    "    return chr((i + 1) % (126 - 32 + 1) + 32)"
   ]
  },
  {
   "cell_type": "code",
   "execution_count": null,
   "id": "db18dd75",
   "metadata": {},
   "outputs": [],
   "source": [
    "data = \"\"\n",
    "for i in range(100000):\n",
    "    x = random.randint(32, 126)\n",
    "    c = foo(x) + foo(x + 1) + foo(x + 2) + foo(x + 3)\n",
    "    data += f\"{c}\\n\""
   ]
  },
  {
   "cell_type": "code",
   "execution_count": null,
   "id": "eec1bd2a",
   "metadata": {},
   "outputs": [],
   "source": [
    "with open(\"../assets/new-dream.txt\", \"r\") as f:\n",
    "    data = f.read()"
   ]
  },
  {
   "cell_type": "code",
   "execution_count": null,
   "id": "ec33f2f3",
   "metadata": {},
   "outputs": [],
   "source": [
    "vocab = [\"😱\"] + sorted(list(set(data)))\n",
    "print(\"vocab: \" + \"\".join(vocab[:50]) + \" ...\")\n",
    "print(f\"vocab len: {len(vocab)}\")\n",
    "\n",
    "stoi = {ch: i for i, ch in enumerate(vocab)}\n",
    "iots = {i: ch for i, ch in enumerate(vocab)}\n",
    "encode = lambda s: [stoi[c] for c in s]\n",
    "decode = lambda l: \"\".join([iots[i] for i in l])\n",
    "train_data = jnp.array(encode(data))"
   ]
  },
  {
   "cell_type": "code",
   "execution_count": null,
   "id": "86c6f599",
   "metadata": {},
   "outputs": [],
   "source": [
    "batch_size = 32\n",
    "# context window length\n",
    "block_size = 16"
   ]
  },
  {
   "cell_type": "code",
   "execution_count": null,
   "id": "8198d167",
   "metadata": {},
   "outputs": [],
   "source": [
    "dynamic_slice_vmap = jax.vmap(lax.dynamic_slice, in_axes=(None, 0, None))\n",
    "\n",
    "\n",
    "@jax.jit\n",
    "def get_batch(random_key, data):\n",
    "    ix = jax.random.randint(\n",
    "        random_key, shape=(batch_size, 1), minval=0, maxval=len(data) - block_size\n",
    "    )\n",
    "    x = dynamic_slice_vmap(data, ix, (block_size,))\n",
    "    y = dynamic_slice_vmap(data, ix + 1, (block_size,))\n",
    "    return x, y"
   ]
  },
  {
   "cell_type": "code",
   "execution_count": null,
   "id": "1ea74150",
   "metadata": {},
   "outputs": [],
   "source": [
    "FULL_VISIBLE = jnp.full((batch_size, block_size), True, dtype=jnp.bool)\n",
    "\n",
    "\n",
    "def loss_fn(model, x, y):\n",
    "    logits = model(x, FULL_VISIBLE)\n",
    "    return optax.softmax_cross_entropy_with_integer_labels(logits, labels=y).mean()\n",
    "\n",
    "\n",
    "@nnx.jit\n",
    "def train_step(model, optimizer, key):\n",
    "    key, subkey = jax.random.split(key)\n",
    "    batch = get_batch(key, train_data)\n",
    "    loss, grads = nnx.value_and_grad(loss_fn)(model, *batch)\n",
    "    optimizer.update(model, grads)\n",
    "    return loss, key"
   ]
  },
  {
   "cell_type": "code",
   "execution_count": null,
   "id": "1c195c97",
   "metadata": {},
   "outputs": [],
   "source": [
    "vocab_size = len(vocab)\n",
    "embed_dim = 16\n",
    "qk_dim = embed_dim\n",
    "hidden_dim = 2 * embed_dim\n",
    "layer_count = 2\n",
    "learning_rate = 1e-3\n",
    "\n",
    "model = L.MicroLM(\n",
    "    L.MicroLMConfig(\n",
    "        vocab_size,\n",
    "        embed_dim,\n",
    "        qk_dim,\n",
    "        hidden_dim,\n",
    "        block_size,\n",
    "        layer_count,\n",
    "        position_encoding=L.PositionEncodingStrategy.ALL_YOU_NEED,\n",
    "    ),\n",
    "    rngs=nnx.Rngs(params=0),\n",
    ")"
   ]
  },
  {
   "cell_type": "code",
   "execution_count": null,
   "id": "27b61e4e",
   "metadata": {},
   "outputs": [],
   "source": [
    "key = jax.random.PRNGKey(1234)"
   ]
  },
  {
   "cell_type": "code",
   "execution_count": null,
   "id": "954da886",
   "metadata": {},
   "outputs": [],
   "source": [
    "optimizer = nnx.Optimizer(model, optax.adam(learning_rate), wrt=nnx.Param)"
   ]
  },
  {
   "cell_type": "code",
   "execution_count": null,
   "id": "961c9ab6",
   "metadata": {},
   "outputs": [],
   "source": [
    "for i in range(5000):\n",
    "    loss, key = train_step(model, optimizer, key)\n",
    "\n",
    "    if i % 1000 == 0:\n",
    "        print(f\"step: {i}\\t train loss: {loss}\")"
   ]
  },
  {
   "cell_type": "code",
   "execution_count": null,
   "id": "da0162ec",
   "metadata": {},
   "outputs": [],
   "source": [
    "def compute_initial(text: str):\n",
    "    s = encode(text)\n",
    "    assert len(s) < block_size\n",
    "    return jnp.concatenate(\n",
    "        [\n",
    "            jnp.array(s, dtype=jnp.int32),\n",
    "            jnp.full((block_size - len(s),), stoi[\"😱\"], dtype=jnp.int32),\n",
    "        ]\n",
    "    )\n",
    "\n",
    "\n",
    "def completion(input: str, length: int, temp: float):\n",
    "    result = U.generate_text2(model, key, temp, length, compute_initial(input))\n",
    "    return input + decode(result)"
   ]
  },
  {
   "cell_type": "code",
   "execution_count": null,
   "id": "f0152e11",
   "metadata": {},
   "outputs": [],
   "source": [
    "print(completion(\"abcd\\n1234\\n5678\\n\", 100, 2))"
   ]
  }
 ],
 "metadata": {
  "kernelspec": {
   "display_name": "learn-jax",
   "language": "python",
   "name": "python3"
  },
  "language_info": {
   "codemirror_mode": {
    "name": "ipython",
    "version": 3
   },
   "file_extension": ".py",
   "mimetype": "text/x-python",
   "name": "python",
   "nbconvert_exporter": "python",
   "pygments_lexer": "ipython3",
   "version": "3.13.7"
  }
 },
 "nbformat": 4,
 "nbformat_minor": 5
}
