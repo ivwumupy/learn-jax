{
 "cells": [
  {
   "cell_type": "code",
   "execution_count": 4,
   "id": "1523933c",
   "metadata": {},
   "outputs": [],
   "source": [
    "from flax import nnx\n",
    "import jax\n",
    "import jax.numpy as jnp\n",
    "from jax import lax\n",
    "import optax\n",
    "\n",
    "from matplotlib import pyplot as plt\n",
    "\n",
    "import functools\n",
    "import importlib"
   ]
  },
  {
   "cell_type": "code",
   "execution_count": 389,
   "id": "600c7e85",
   "metadata": {},
   "outputs": [
    {
     "data": {
      "text/plain": [
       "<module 'layers' from '/home/tianjiao/learn-jax/layers.py'>"
      ]
     },
     "execution_count": 389,
     "metadata": {},
     "output_type": "execute_result"
    }
   ],
   "source": [
    "import layers as L\n",
    "\n",
    "importlib.reload(L)"
   ]
  },
  {
   "cell_type": "code",
   "execution_count": 6,
   "id": "d7c4e786",
   "metadata": {},
   "outputs": [],
   "source": [
    "with open(\"../assets/红楼梦.txt\", \"r\") as f:\n",
    "    data = f.read()"
   ]
  },
  {
   "cell_type": "code",
   "execution_count": 220,
   "id": "db18dd75",
   "metadata": {},
   "outputs": [],
   "source": [
    "data = \"\"\n",
    "for i in range(0, 10):\n",
    "    for j in range(0, 10):\n",
    "        s = f\"{i}+{j}={i + j}\\n\"\n",
    "        data += s"
   ]
  },
  {
   "cell_type": "code",
   "execution_count": 222,
   "id": "ec33f2f3",
   "metadata": {},
   "outputs": [
    {
     "name": "stdout",
     "output_type": "stream",
     "text": [
      "vocab:  ...\n",
      "vocab len: 13\n"
     ]
    }
   ],
   "source": [
    "vocab = sorted(list(set(data)))\n",
    "print(\"vocab: \" + \"\".join(vocab[:-50]) + \" ...\")\n",
    "print(f\"vocab len: {len(vocab)}\")\n",
    "\n",
    "stoi = {ch: i for i, ch in enumerate(vocab)}\n",
    "iots = {i: ch for i, ch in enumerate(vocab)}\n",
    "encode = lambda s: [stoi[c] for c in s]\n",
    "decode = lambda l: \"\".join([iots[i] for i in l])\n",
    "train_data = jnp.array(encode(data))"
   ]
  },
  {
   "cell_type": "code",
   "execution_count": 316,
   "id": "86c6f599",
   "metadata": {},
   "outputs": [],
   "source": [
    "batch_size = 8\n",
    "# context window length\n",
    "block_size = 11"
   ]
  },
  {
   "cell_type": "code",
   "execution_count": 317,
   "id": "8198d167",
   "metadata": {},
   "outputs": [],
   "source": [
    "dynamic_slice_vmap = jax.vmap(lax.dynamic_slice, in_axes=(None, 0, None))\n",
    "\n",
    "\n",
    "@jax.jit\n",
    "def get_batch(random_key, data):\n",
    "    ix = jax.random.randint(\n",
    "        random_key, shape=(batch_size, 1), minval=0, maxval=len(data) - block_size\n",
    "    )\n",
    "    x = dynamic_slice_vmap(data, ix, (block_size,))\n",
    "    y = dynamic_slice_vmap(data, ix + 1, (block_size,))\n",
    "    return x, y"
   ]
  },
  {
   "cell_type": "code",
   "execution_count": 318,
   "id": "1ea74150",
   "metadata": {},
   "outputs": [],
   "source": [
    "def loss_fn(model, x, y):\n",
    "    logits = model(x)\n",
    "    return optax.softmax_cross_entropy_with_integer_labels(logits, labels=y).mean()\n",
    "\n",
    "\n",
    "@nnx.jit\n",
    "def train_step(model, optimizer, key):\n",
    "    key, subkey = jax.random.split(key)\n",
    "    batch = get_batch(key, train_data)\n",
    "    loss, grads = nnx.value_and_grad(loss_fn)(model, *batch)\n",
    "    optimizer.update(model, grads)\n",
    "    return loss, key"
   ]
  },
  {
   "cell_type": "code",
   "execution_count": 390,
   "id": "1c195c97",
   "metadata": {},
   "outputs": [],
   "source": [
    "vocab_size = len(vocab)\n",
    "embed_dim = 8\n",
    "qk_dim = 32\n",
    "hidden_dim = 4 * embed_dim\n",
    "layer_count = 1\n",
    "learning_rate = 1e-3\n",
    "\n",
    "model = L.MicroLM(\n",
    "    L.MicroLMConfig(vocab_size, embed_dim, qk_dim, hidden_dim, block_size, layer_count),\n",
    "    rngs=nnx.Rngs(params=0),\n",
    ")"
   ]
  },
  {
   "cell_type": "code",
   "execution_count": 391,
   "id": "27b61e4e",
   "metadata": {},
   "outputs": [],
   "source": [
    "key = jax.random.PRNGKey(1234)"
   ]
  },
  {
   "cell_type": "code",
   "execution_count": 392,
   "id": "954da886",
   "metadata": {},
   "outputs": [],
   "source": [
    "optimizer = nnx.Optimizer(model, optax.adam(learning_rate), wrt=nnx.Param)"
   ]
  },
  {
   "cell_type": "code",
   "execution_count": 393,
   "id": "18459fb3",
   "metadata": {},
   "outputs": [],
   "source": [
    "all_train_losses = []"
   ]
  },
  {
   "cell_type": "code",
   "execution_count": 394,
   "id": "961c9ab6",
   "metadata": {},
   "outputs": [
    {
     "name": "stdout",
     "output_type": "stream",
     "text": [
      "step: 0\t train loss: 2.6081106662750244\n",
      "step: 1000\t train loss: 1.6376978158950806\n",
      "step: 2000\t train loss: 1.1147936582565308\n",
      "step: 3000\t train loss: 0.7417328953742981\n",
      "step: 4000\t train loss: 0.22384488582611084\n",
      "step: 5000\t train loss: 0.0853957012295723\n",
      "step: 6000\t train loss: 0.0856800526380539\n",
      "step: 7000\t train loss: 0.13447034358978271\n",
      "step: 8000\t train loss: 0.09790881723165512\n",
      "step: 9000\t train loss: 0.06301579624414444\n"
     ]
    }
   ],
   "source": [
    "for i in range(10000):\n",
    "    loss, key = train_step(model, optimizer, key)\n",
    "    all_train_losses.append(loss)\n",
    "\n",
    "    if i % 1000 == 0:\n",
    "        print(f\"step: {i}\\t train loss: {loss}\")"
   ]
  },
  {
   "cell_type": "code",
   "execution_count": 408,
   "id": "8e53b1d5",
   "metadata": {},
   "outputs": [],
   "source": [
    "@functools.partial(jax.jit, static_argnames=[\"length\"])\n",
    "def generate_text(model, key, length, initial):\n",
    "    def scan_gen(carry, _):\n",
    "        key, context = carry\n",
    "        logits = model(context)\n",
    "        key, subkey = jax.random.split(key)\n",
    "        new_token = jax.random.categorical(subkey, logits[-1], shape=(1,))\n",
    "        context = jnp.concatenate([context[1:], new_token])\n",
    "        return (key, context), new_token\n",
    "\n",
    "    _, new_tokens = lax.scan(scan_gen, (key, initial), (), length=length)\n",
    "    return new_tokens"
   ]
  },
  {
   "cell_type": "code",
   "execution_count": 409,
   "id": "da0162ec",
   "metadata": {},
   "outputs": [],
   "source": [
    "def compute_initial(text: str):\n",
    "    s = encode(text)\n",
    "    assert len(s) < block_size\n",
    "    return jnp.concatenate(\n",
    "        [\n",
    "            jnp.zeros((block_size - len(s),), dtype=jnp.int32),\n",
    "            jnp.array(s, dtype=jnp.int32),\n",
    "        ]\n",
    "    )\n",
    "\n",
    "\n",
    "def completion(input: str, length: int):\n",
    "    result = generate_text(model, key, length, compute_initial(input))[:, 0].tolist()\n",
    "    return input + decode(result)"
   ]
  },
  {
   "cell_type": "code",
   "execution_count": 411,
   "id": "f0152e11",
   "metadata": {},
   "outputs": [
    {
     "name": "stdout",
     "output_type": "stream",
     "text": [
      "1+0=7\n",
      "1+\n"
     ]
    }
   ],
   "source": [
    "print(completion(\"1+0=\", 4))"
   ]
  },
  {
   "cell_type": "code",
   "execution_count": 388,
   "id": "e45b7ca0",
   "metadata": {},
   "outputs": [
    {
     "data": {
      "text/html": [
       "<script> (()=>{ if (customElements.get('treescope-container') === undefined) { class TreescopeContainer extends HTMLElement { constructor() { super(); this.attachShadow({mode: \"open\"}); this.defns = {}; this.state = {}; } } customElements.define(\"treescope-container\", TreescopeContainer); } if (customElements.get('treescope-run-here') === undefined) { class RunHere extends HTMLElement { constructor() { super() } connectedCallback() { const run = child => { const fn = new Function(child.textContent); child.textContent = \"\"; fn.call(this); this.remove(); }; const child = this.querySelector(\"script\"); if (child) { run(child); } else { new MutationObserver(()=>{ run(this.querySelector(\"script\")); }).observe(this, {childList: true}); } } } customElements.define(\"treescope-run-here\", RunHere); } })(); </script> <treescope-container class=\"treescope_out_d74daabbe253448b8d981b28f3ec1c2f\" style=\"display:block\"></treescope-container> <treescope-run-here><script type=\"application/octet-stream\"> const root = ( Array.from(document.getElementsByClassName( \"treescope_out_d74daabbe253448b8d981b28f3ec1c2f\")) .filter((elt) => !elt.dataset.setup) )[0]; root.dataset.setup = 1; const msg = document.createElement(\"span\"); msg.style = \"color: #cccccc; font-family: monospace;\"; msg.textContent = \"(Loading...)\"; root.state.loadingMsg = msg; root.shadowRoot.appendChild(msg); root.state.chain = new Promise((resolve, reject) => { const observer = new IntersectionObserver((entries) => { for (const entry of entries) { if (entry.isIntersecting) { resolve(); observer.disconnect(); return; } } }, {rootMargin: \"1000px\"}); window.setTimeout(() => { observer.observe(root); }, 0); }); root.state.deferring = false; const _insertNode = (node) => { for (let oldScript of node.querySelectorAll(\"script\")) { let newScript = document.createElement(\"script\"); newScript.type = oldScript.type; newScript.textContent = oldScript.textContent; oldScript.parentNode.replaceChild(newScript, oldScript); } if (root.state.loadingMsg) { root.state.loadingMsg.remove(); root.state.loadingMsg = null; } root.shadowRoot.appendChild(node); }; root.defns.insertContent = ((contentNode, compressed) => { if (compressed) { root.state.deferring = true; } if (root.state.deferring) { root.state.chain = (async () => { await root.state.chain; if (compressed) { const encoded = contentNode.textContent; const blob = new Blob([ Uint8Array.from(atob(encoded), (m) => m.codePointAt(0)) ]); const reader = blob.stream().pipeThrough( new DecompressionStream(\"deflate\") ).pipeThrough( new TextDecoderStream(\"utf-8\") ).getReader(); const parts = []; while (true) { const step = await reader.read(); if (step.done) { break; } parts.push(step.value); } const tpl = document.createElement('template'); tpl.innerHTML = parts.join(\"\"); _insertNode(tpl.content); } else { _insertNode(contentNode.content); } })(); } else { _insertNode(contentNode.content); } }); </script></treescope-run-here><div style=\"display:none\"> <script type=\"application/octet-stream\" >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</script> <treescope-run-here><script type=\"application/octet-stream\"> const root = ( Array.from(document.getElementsByClassName( \"treescope_out_d74daabbe253448b8d981b28f3ec1c2f\")) .filter((elt) => !elt.dataset['step0']) )[0]; root.dataset['step0'] = 1; root.defns.insertContent( this.parentNode.querySelector('script[type=\"application/octet-stream\"]'), true ); this.parentNode.remove(); </script></treescope-run-here> </div>"
      ],
      "text/plain": [
       "<IPython.core.display.HTML object>"
      ]
     },
     "metadata": {},
     "output_type": "display_data"
    },
    {
     "data": {
      "text/html": [
       "<div style=\"display:none\"> <script type=\"application/octet-stream\" >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</script> <treescope-run-here><script type=\"application/octet-stream\"> const root = ( Array.from(document.getElementsByClassName( \"treescope_out_d74daabbe253448b8d981b28f3ec1c2f\")) .filter((elt) => !elt.dataset['step1']) )[0]; root.dataset['step1'] = 1; root.defns.insertContent( this.parentNode.querySelector('script[type=\"application/octet-stream\"]'), true ); this.parentNode.remove(); </script></treescope-run-here> </div>"
      ],
      "text/plain": [
       "<IPython.core.display.HTML object>"
      ]
     },
     "metadata": {},
     "output_type": "display_data"
    }
   ],
   "source": [
    "nnx.display(model)"
   ]
  },
  {
   "cell_type": "code",
   "execution_count": null,
   "id": "2b7985d1",
   "metadata": {},
   "outputs": [],
   "source": []
  }
 ],
 "metadata": {
  "kernelspec": {
   "display_name": "learn-jax",
   "language": "python",
   "name": "python3"
  },
  "language_info": {
   "codemirror_mode": {
    "name": "ipython",
    "version": 3
   },
   "file_extension": ".py",
   "mimetype": "text/x-python",
   "name": "python",
   "nbconvert_exporter": "python",
   "pygments_lexer": "ipython3",
   "version": "3.13.7"
  }
 },
 "nbformat": 4,
 "nbformat_minor": 5
}
